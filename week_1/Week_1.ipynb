{
 "cells": [
  {
   "cell_type": "markdown",
   "id": "cc0d46c7",
   "metadata": {},
   "source": [
    "# 1. Întrebări ❔󠁧󠁢󠁥󠁮󠁧󠁿"
   ]
  },
  {
   "cell_type": "markdown",
   "id": "0f74238d",
   "metadata": {},
   "source": [
    "1. Cine tine cursul de X? (**Course Information**)\n",
    "2. De la ce ora este deschis secretariatul de Automatica si Calculatoare? (**Campus Facilities & Resources**)\n",
    "3. In ce sala il gasesc pe domnul profesor X? (**Faculty & Academic Staff**)\n",
    "4. Doresc sa imi fac licenta in domeniul \"Embedded\", cu \"AI\". Ce profesor ar fi cel mai potrivit? (**Faculty & Academic Staff**)\n",
    "5. Cate credite are examenul X? (**Course Information**)\n",
    "6. De cate prezente este nevoie la materia X? (**Course Information**)\n",
    "7. Ce nota imi trebuie pentru a trece la examenul X? (**Course Information**)\n",
    "8. Unde imi pot plati taxa? (**Web**)\n",
    "9. Daca am media 8.6, pot ajunge la buget? (**Web**)\n",
    "10. Daca am media 9.3, am sanse la bursa? (**Web**)\n",
    "11. Stie cineva programul de la cabinetul medical? (**Campus Facilities & Resources**)\n",
    "12. De ce acte am nevoie pentru admitere la licenta/disertatie? (**Admissions & Enrollment**)\n",
    "13. La ce numar pot suna daca am nevoie de informatii legate de admitere? (**Admissions & Enrollment**)\n",
    "14. Unde imi fac programare la secretariat? (**Web**)\n",
    "15. Descriere a materiilor optionale (din fisa disciplinelor) (**Course Information**)\n",
    "16. Unde gasesc planificarea examenelor? (**Web**)\n",
    "17. Unde gasesc sala X? (**Campus Facilities & Resources**)\n",
    "18. Unde gasesc orarul? (**Web**)\n",
    "19. Unde gasesc calendarul anului universitar? (**Web**)\n",
    "20. Ce specializari sunt la departamentul de Calculatoare? (**Faculty & Academic Staff**)\n",
    "21. Ce departamente sunt la facultatea de Automatica si Calculatoare? (**Faculty & Academic Staff**)\n",
    "22. Sunt pasionat de Info si Matematica. La ce facultate m-as potrivi cel mai bine? (**Course Information**)\n",
    "23. Unde pot gasi informatii despre cazare? (**Campus Facilities & Resources**)\n",
    "24. Cand se fac cazarile pentru anul 2? (**Web**)\n",
    "25. Unde gasesc cerere acordare laptop? (**Web**)\n",
    "26. Unde imi gasesc notele? (**Web**)\n",
    "27. Cum pot face Evaluare Profesorilor? (**Web**)\n",
    "28. Unde pot gasi 'Lista de studenti'? (**Web**)\n",
    "29. Cum se procedeaza cu practica? (**Web**)\n",
    "30. Pot face practica la facultate? (**Web**)\n",
    "31. Cu ce firme colaboreaza facultatea? (**Jobs, Internships & Career Support**)\n",
    "32. Ce cursuri sunt tinute de firme colaboratoare? (**Jobs, Internships & Career Support**)\n",
    "33. Unde fac programare la masina de spalat in camin? (**Campus Facilities & Resources**)\n",
    "34. Unde gasesc Caminul X? (**Campus Facilities & Resources**)\n",
    "35. Care sunt caminele de la calculatoare? (**Campus Facilities & Resources**)\n",
    "36. Care este programul de la cantina? (**Campus Facilities & Resources**)\n",
    "37. Unde este cantina? (**Campus Facilities & Resources**)\n",
    "38. Cantina este deschisa pe perioada vacantei? (**Web**)\n",
    "39. Care sunt asistentii de la materia AI? (**Faculty & Academic Staff**)\n",
    "40. Cum pot gasi adresa de mail a profesorului X? (**Faculty & Academic Staff**)\n",
    "41. Care sunt facultatile partenere? (**Colaboration with other universitites**)\n",
    "42. De ce acte am nevoie pentru Erasmus? (**Web**)\n",
    "43. De ce medie am nevoie pentru Erasmus? (**Web**)\n",
    "44. Unde pot gasi mai multe informatii legate de Erasmus? (**Web**)\n",
    "45. Cum imi fac abonamentul de tren? (**Transportation & Parking**)\n",
    "46. Cum imi fac abonament de biblioteca? (**Campus Facilities & Resources**)\n",
    "47. De ce documente am nevoie la CTP? (**Transportation & Parking**)\n",
    "48. Informatii legate de CTP? (**Transportation & Parking**)\n",
    "49. Cum se desfasoara admiterea la facultatea X? (**Admissions, Enrollment & Platforms**)\n",
    "50. Cum pot apela la consiliere de cariera? (**Student Support & Services**)\n",
    "51. Care este Wifi universitatii? (**IT & Technical Support**)\n",
    "52. Unde pot parca in campus? (**Campus Facilities & Resources**)\n",
    "53. Cum pot obtine parcarea in campus? (**Campus Facilities & Resources**)\n",
    "54. Care ii statia cea mai apropiata de facultatea X? (**Transportation & Parking**)\n",
    "55. Cat e taxa pentru camin? (**Campus Facilities & Resources**)\n",
    "56. Unde pot face programare la sintetic? Cat costa? (**Student Life & Extracurricular Activities**)\n",
    "57. Cum pot ajunge in OSUT? (**Student Life & Extracurricular Activities**)\n",
    "58. Cum imi pot reseta contul de SINU? (**IT & Technical Support**)\n",
    "59. Cum ma pot conecta in reteaua caminului? (**IT & Technical Support**)\n",
    "60. Am pierdut portmoneu, exista ceva tip lost & found? (**Student Support & Services**)\n"
   ]
  },
  {
   "cell_type": "markdown",
   "id": "f83055e7",
   "metadata": {},
   "source": [
    "# 2. Ontologies 🛢️"
   ]
  },
  {
   "cell_type": "markdown",
   "id": "c5336061",
   "metadata": {},
   "source": [
    "### 2.1. Course Information 📚\n",
    "- Denumire materii, Fisa disciplinelor \n",
    "\n",
    "### 2.2. Faculty & Academic Staff  🏛️\n",
    "- Universitate, Facultati, Departamente, Specializari, Lista materii pe specializare\n",
    "\n",
    "### 2.3. Admissions, Enrollment & Platforms 🌐\n",
    "- Platforma Moodle, Platoforma Sinu, Admitere licenta/master/doctorat\n",
    "\n",
    "### 2.4. Campus Facilities & Resources 🏫\n",
    "- Legenda Facultate, Locatie sali, Locatie cantine, Orare, Cabinet medical, Camine, Biblioteca\n",
    "\n",
    "### 2.5. Student Support & Services 📞 \n",
    "- Lost & Found\n",
    "\n",
    "### 2.6. Jobs, Internships & Career Support 💼\n",
    "- Internships at companies that collaborate with UTCN, Jobs at companies that collaborate with UTCN, Internship at the university\n",
    "\n",
    "### 2.7. Transportation & Parking 🚌\n",
    "- Mobility by train, Mobility by bus, Card CTP, Taxe bilete/abonamente\n",
    "\n",
    "### 2.8. Web 🌍\n",
    "- Rules information, Taxes information, Secretary information, Calendar, Orar\n",
    "\n",
    "### 2.9. Student Life & Extracurricular Activities ⚽ \n",
    "- Programare sintetic, inot, organizatii studentesti (OSUT)\n",
    "\n",
    "### 2.10. IT & Technical Support 👨🏻‍💻\n",
    "- University Wifi, Campus WiFi\n",
    "\n",
    "### 2.11. Colaboration with other universitites 🤝\n",
    "     \n",
    "- List of universities that collaborate with UTCN, Erasmus Programs"
   ]
  },
  {
   "cell_type": "markdown",
   "id": "58cccfb7",
   "metadata": {},
   "source": [
    "# 3. Example of ontology 👉"
   ]
  },
  {
   "cell_type": "markdown",
   "id": "76e9452f",
   "metadata": {},
   "source": [
    "## 3.1.Faculty & Academic Staff  🏛️"
   ]
  },
  {
   "cell_type": "markdown",
   "id": "323aa780",
   "metadata": {},
   "source": [
    "### 3.1.1. Owl code  "
   ]
  },
  {
   "cell_type": "markdown",
   "id": "07532691",
   "metadata": {},
   "source": [
    "```xml\n",
    "\n",
    "<?xml version=\"1.0\"?>\n",
    "<rdf:RDF\n",
    "    xmlns:rdf=\"http://www.w3.org/1999/02/22-rdf-syntax-ns#\"\n",
    "    xmlns:rdfs=\"http://www.w3.org/2000/01/rdf-schema#\"\n",
    "    xmlns:owl=\"http://www.w3.org/2002/07/owl#\"\n",
    "    xmlns:xsd=\"http://www.w3.org/2001/XMLSchema#\"\n",
    "    xmlns:univ=\"http://example.org/university#\"\n",
    "    xml:base=\"http://example.org/university#\"\n",
    "    owl:ontology=\"http://example.org/university\">\n",
    "\n",
    "    <!-- Ontology Metadata -->\n",
    "    <owl:Ontology rdf:about=\"http://example.org/university\">\n",
    "        <rdfs:comment>A simple ontology for representing university structure.</rdfs:comment>\n",
    "        <rdfs:label>University Ontology</rdfs:label>\n",
    "    </owl:Ontology>\n",
    "\n",
    "    <!-- Classes -->\n",
    "    <owl:Class rdf:about=\"#University\"/>\n",
    "    <owl:Class rdf:about=\"#Faculty\"/>\n",
    "    <owl:Class rdf:about=\"#Department\"/>\n",
    "    <owl:Class rdf:about=\"#Specialization\"/>\n",
    "    <owl:Class rdf:about=\"#Subject\"/>\n",
    "\n",
    "    <!-- Object Properties -->\n",
    "    <owl:ObjectProperty rdf:about=\"#hasFaculty\">\n",
    "        <rdfs:domain rdf:resource=\"#University\"/>\n",
    "        <rdfs:range rdf:resource=\"#Faculty\"/>\n",
    "    </owl:ObjectProperty>\n",
    "\n",
    "    <owl:ObjectProperty rdf:about=\"#hasDepartment\">\n",
    "        <rdfs:domain rdf:resource=\"#Faculty\"/>\n",
    "        <rdfs:range rdf:resource=\"#Department\"/>\n",
    "    </owl:ObjectProperty>\n",
    "\n",
    "    <owl:ObjectProperty rdf:about=\"#hasSpecialization\">\n",
    "        <rdfs:domain rdf:resource=\"#Department\"/>\n",
    "        <rdfs:range rdf:resource=\"#Specialization\"/>\n",
    "    </owl:ObjectProperty>\n",
    "\n",
    "    <owl:ObjectProperty rdf:about=\"#hasSubject\">\n",
    "        <rdfs:domain rdf:resource=\"#Specialization\"/>\n",
    "        <rdfs:range rdf:resource=\"#Subject\"/>\n",
    "    </owl:ObjectProperty>\n",
    "\n",
    "    <!-- Inverse Properties -->\n",
    "    <owl:ObjectProperty rdf:about=\"#belongsToUniversity\">\n",
    "        <rdfs:domain rdf:resource=\"#Faculty\"/>\n",
    "        <rdfs:range rdf:resource=\"#University\"/>\n",
    "        <owl:inverseOf rdf:resource=\"#hasFaculty\"/>\n",
    "    </owl:ObjectProperty>\n",
    "\n",
    "    <owl:ObjectProperty rdf:about=\"#belongsToFaculty\">\n",
    "        <rdfs:domain rdf:resource=\"#Department\"/>\n",
    "        <rdfs:range rdf:resource=\"#Faculty\"/>\n",
    "        <owl:inverseOf rdf:resource=\"#hasDepartment\"/>\n",
    "    </owl:ObjectProperty>\n",
    "\n",
    "    <owl:ObjectProperty rdf:about=\"#belongsToDepartment\">\n",
    "        <rdfs:domain rdf:resource=\"#Specialization\"/>\n",
    "        <rdfs:range rdf:resource=\"#Department\"/>\n",
    "        <owl:inverseOf rdf:resource=\"#hasSpecialization\"/>\n",
    "    </owl:ObjectProperty>\n",
    "\n",
    "    <owl:ObjectProperty rdf:about=\"#belongsToSpecialization\">\n",
    "        <rdfs:domain rdf:resource=\"#Subject\"/>\n",
    "        <rdfs:range rdf:resource=\"#Specialization\"/>\n",
    "        <owl:inverseOf rdf:resource=\"#hasSubject\"/>\n",
    "    </owl:ObjectProperty>\n",
    "\n",
    "    <!-- Data Properties (Example) -->\n",
    "    <owl:DatatypeProperty rdf:about=\"#facultyName\">\n",
    "        <rdfs:domain rdf:resource=\"#Faculty\"/>\n",
    "        <rdfs:range rdf:resource=\"xsd:string\"/>\n",
    "    </owl:DatatypeProperty>\n",
    "\n",
    "    <owl:DatatypeProperty rdf:about=\"#departmentName\">\n",
    "        <rdfs:domain rdf:resource=\"#Department\"/>\n",
    "        <rdfs:range rdf:resource=\"xsd:string\"/>\n",
    "    </owl:DatatypeProperty>\n",
    "\n",
    "    <!-- Instances -->\n",
    "    <univ:University rdf:about=\"#ExampleUniversity\">\n",
    "        <univ:hasFaculty rdf:resource=\"#FacultyOfEngineering\"/>\n",
    "        <univ:hasFaculty rdf:resource=\"#FacultyOfScience\"/>\n",
    "    </univ:University>\n",
    "\n",
    "    <univ:Faculty rdf:about=\"#FacultyOfEngineering\">\n",
    "        <univ:hasDepartment rdf:resource=\"#DepartmentOfComputerScience\"/>\n",
    "        <univ:hasDepartment rdf:resource=\"#DepartmentOfElectricalEngineering\"/>\n",
    "    </univ:Faculty>\n",
    "\n",
    "    <univ:Faculty rdf:about=\"#FacultyOfScience\">\n",
    "        <univ:hasDepartment rdf:resource=\"#DepartmentOfPhysics\"/>\n",
    "    </univ:Faculty>\n",
    "\n",
    "    <univ:Department rdf:about=\"#DepartmentOfComputerScience\">\n",
    "        <univ:hasSpecialization rdf:resource=\"#ArtificialIntelligence\"/>\n",
    "    </univ:Department>\n",
    "\n",
    "    <univ:Specialization rdf:about=\"#ArtificialIntelligence\">\n",
    "        <univ:hasSubject rdf:resource=\"#MachineLearning\"/>\n",
    "        <univ:hasSubject rdf:resource=\"#NeuralNetworks\"/>\n",
    "    </univ:Specialization>\n",
    "\n",
    "    <univ:Subject rdf:about=\"#MachineLearning\"/>\n",
    "    <univ:Subject rdf:about=\"#NeuralNetworks\"/>\n",
    "\n",
    "</rdf:RDF>\n",
    "```"
   ]
  },
  {
   "cell_type": "markdown",
   "id": "a2e28a9e",
   "metadata": {},
   "source": [
    "# 4. Inference rules 📜"
   ]
  },
  {
   "cell_type": "markdown",
   "id": "29f02112",
   "metadata": {},
   "source": [
    "## 4.1. Class Inference\n",
    "If an individual belongs to a subclass, it is inferred to belong to the superclass. "
   ]
  },
  {
   "cell_type": "markdown",
   "id": "df9197c2",
   "metadata": {},
   "source": [
    "```xml\n",
    "<owl:Class rdf:about=\"#Mammal\"/>\n",
    "<owl:Class rdf:about=\"#Dog\">\n",
    "  <rdfs:subClassOf rdf:resource=\"#Mammal\"/>\n",
    "</owl:Class>\n",
    "```"
   ]
  },
  {
   "cell_type": "markdown",
   "id": "a19784e6",
   "metadata": {},
   "source": [
    "**Inference**: If Fido is an instance of Dog, then it is also an instance of Mammal."
   ]
  },
  {
   "cell_type": "markdown",
   "id": "d05dc710",
   "metadata": {},
   "source": [
    "## 4.2. Property Inference\n",
    "If A hasParent B and B hasParent C, then (with transitivity) A hasAncestor C."
   ]
  },
  {
   "cell_type": "markdown",
   "id": "b7d10695",
   "metadata": {},
   "source": [
    "```xml\n",
    "<owl:ObjectProperty rdf:about=\"#hasAncestor\">\n",
    "  <rdf:type rdf:resource=\"&owl;TransitiveProperty\"/>\n",
    "</owl:ObjectProperty>\n",
    "```   "
   ]
  },
  {
   "cell_type": "markdown",
   "id": "fcdbe68f",
   "metadata": {},
   "source": [
    "**Inference**: If John hasAncestor Paul and Paul hasAncestor Robert, then John hasAncestor Robert."
   ]
  },
  {
   "cell_type": "markdown",
   "id": "319bfed6",
   "metadata": {},
   "source": [
    "## 4.3. Equivalent Classes\n",
    "If two classes are equivalent, an instance of one is also an instance of the other."
   ]
  },
  {
   "cell_type": "markdown",
   "id": "709e3e97",
   "metadata": {},
   "source": [
    "```xml\n",
    "<owl:Class rdf:about=\"#Car\"/>\n",
    "<owl:Class rdf:about=\"#Automobile\">\n",
    "  <owl:equivalentClass rdf:resource=\"#Car\"/>\n",
    "</owl:Class>\n",
    "```"
   ]
  },
  {
   "cell_type": "markdown",
   "id": "67222888",
   "metadata": {},
   "source": [
    "**Inference**: If Toyota is an instance of Car, it is also an instance of Automobile."
   ]
  },
  {
   "cell_type": "markdown",
   "id": "79008dbd",
   "metadata": {},
   "source": [
    "## 4.4. Disjoint Classes\n",
    "If two classes are disjoint, an instance of one cannot be an instance of the other."
   ]
  },
  {
   "cell_type": "markdown",
   "id": "e5b23bce",
   "metadata": {},
   "source": [
    "```xml\n",
    "<owl:Class rdf:about=\"#Bird\"/>\n",
    "<owl:Class rdf:about=\"#Fish\">\n",
    "  <owl:disjointWith rdf:resource=\"#Bird\"/>\n",
    "</owl:Class>\n",
    "```"
   ]
  },
  {
   "cell_type": "markdown",
   "id": "2b0098d4",
   "metadata": {},
   "source": [
    "**Inference**: If Nemo is a Fish, it cannot be a Bird."
   ]
  },
  {
   "cell_type": "markdown",
   "id": "859f9db3",
   "metadata": {},
   "source": [
    "## 4.5. Domain and Range Restrictions\n",
    "If a property has a domain or range, individuals using that property must belong to the specified class."
   ]
  },
  {
   "cell_type": "markdown",
   "id": "28b221c1",
   "metadata": {},
   "source": [
    "```xml\n",
    "<owl:ObjectProperty rdf:about=\"#teaches\">\n",
    "  <rdfs:domain rdf:resource=\"#Professor\"/>\n",
    "  <rdfs:range rdf:resource=\"#Course\"/>\n",
    "</owl:ObjectProperty>\n",
    "```"
   ]
  },
  {
   "cell_type": "markdown",
   "id": "77329a23",
   "metadata": {},
   "source": [
    "**Inference**: If Dr. Smith teaches Math101, then Dr. Smith is inferred to be a Professor, and Math101 is a Course."
   ]
  },
  {
   "cell_type": "markdown",
   "id": "6c6bd558",
   "metadata": {},
   "source": [
    "## 4.6. Symmetric and Inverse Properties\n",
    "\n",
    "**Symmetric Property**: If A loves B, then B loves A.\n",
    "\n",
    "**Inverse Property**: If A isParentOf B, then B hasParent A."
   ]
  },
  {
   "cell_type": "markdown",
   "id": "b97c895b",
   "metadata": {},
   "source": []
  },
  {
   "cell_type": "markdown",
   "id": "2ef566be",
   "metadata": {},
   "source": [
    "**Inference**: If Alice knows Bob, then Bob knows Alice."
   ]
  },
  {
   "cell_type": "markdown",
   "id": "cc702fd2",
   "metadata": {},
   "source": [
    "# 5. Main concepts 💡"
   ]
  },
  {
   "cell_type": "markdown",
   "id": "ead59e4c",
   "metadata": {},
   "source": [
    "## 5.1. Classes"
   ]
  },
  {
   "cell_type": "markdown",
   "id": "a7a7e521",
   "metadata": {},
   "source": [
    "**Definition**: Represent categories or types of things in the domain.\n",
    "\n",
    "**Analogy**: Like \"categories\" or \"sets\" in real life.\n",
    "\n",
    "Example:"
   ]
  },
  {
   "cell_type": "markdown",
   "id": "e3a7ea3c",
   "metadata": {},
   "source": [
    "```xml\n",
    "<owl:Class rdf:about=\"#Person\"/>\n",
    "<owl:Class rdf:about=\"#Animal\"/>\n",
    "```"
   ]
  },
  {
   "cell_type": "markdown",
   "id": "ec6a6a2d",
   "metadata": {},
   "source": [
    "## 5.2. Subclasses\n",
    "\n",
    "A subclass is a more specific version of a class.\n",
    "\n",
    "The superclass is the broader category.\n",
    "\n",
    "**Example**:"
   ]
  },
  {
   "cell_type": "markdown",
   "id": "0d33a896",
   "metadata": {},
   "source": [
    "```xml\n",
    "<owl:Class rdf:about=\"#Car\"/>\n",
    "<owl:Class rdf:about=\"#ElectricCar\">\n",
    "  <rdfs:subClassOf rdf:resource=\"#Car\"/>\n",
    "</owl:Class>\n",
    "```"
   ]
  },
  {
   "cell_type": "markdown",
   "id": "3d6b4fd1",
   "metadata": {},
   "source": [
    "## 5.3. Object Properties\n",
    "\n",
    "**Definition**: Define relationships between individuals (instances of classes).\n",
    "\n",
    "**Example**: hasOwner, isFriendOf, teaches, hasParent."
   ]
  },
  {
   "cell_type": "markdown",
   "id": "cd4f557b",
   "metadata": {},
   "source": [
    "```xml\n",
    "<owl:ObjectProperty rdf:about=\"#hasPet\">\n",
    "  <rdfs:domain rdf:resource=\"#Person\"/>\n",
    "  <rdfs:range rdf:resource=\"#Animal\"/>\n",
    "</owl:ObjectProperty>\n",
    "```   "
   ]
  },
  {
   "cell_type": "markdown",
   "id": "73f34828",
   "metadata": {},
   "source": [
    "## 5.4. Datatype Properties\n",
    "\n",
    "**Definition**: Link an individual to a literal value (string, number, date, etc.).\n",
    "\n",
    "**Example**: hasAge, hasName, hasBirthDate."
   ]
  },
  {
   "cell_type": "markdown",
   "id": "b7f9260e",
   "metadata": {},
   "source": [
    "```xml\n",
    "<owl:DatatypeProperty rdf:about=\"#hasAge\">\n",
    "  <rdfs:domain rdf:resource=\"#Person\"/>\n",
    "  <rdfs:range rdf:resource=\"&xsd;integer\"/>\n",
    "</owl:DatatypeProperty>\n",
    "```    "
   ]
  }
 ],
 "metadata": {
  "kernelspec": {
   "display_name": "Python 3",
   "language": "python",
   "name": "python3"
  },
  "language_info": {
   "codemirror_mode": {
    "name": "ipython",
    "version": 3
   },
   "file_extension": ".py",
   "mimetype": "text/x-python",
   "name": "python",
   "nbconvert_exporter": "python",
   "pygments_lexer": "ipython3",
   "version": "3.6.8"
  }
 },
 "nbformat": 4,
 "nbformat_minor": 5
}
